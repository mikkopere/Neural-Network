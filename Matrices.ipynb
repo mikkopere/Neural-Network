{
 "cells": [
  {
   "cell_type": "code",
   "execution_count": 1,
   "metadata": {},
   "outputs": [],
   "source": [
    "import numpy as np\n",
    "import numpy.linalg as la"
   ]
  },
  {
   "cell_type": "markdown",
   "metadata": {},
   "source": [
    "# 1. Matrices and the basic matrix operations"
   ]
  },
  {
   "cell_type": "code",
   "execution_count": 2,
   "metadata": {},
   "outputs": [
    {
     "name": "stdout",
     "output_type": "stream",
     "text": [
      "[[ 0 -1  2]\n",
      " [ 1  0  1]\n",
      " [ 1  1  0]]\n"
     ]
    }
   ],
   "source": [
    "A = np.array([[0, -1, 2], [1, 0, 1], [1, 1, 0]])\n",
    "B = np.array([[-1, 0, 3], [2, 1, 0], [1, 3, -5]])\n",
    "\n",
    "print(A)"
   ]
  },
  {
   "cell_type": "code",
   "execution_count": 3,
   "metadata": {},
   "outputs": [
    {
     "name": "stdout",
     "output_type": "stream",
     "text": [
      "[[-1  0  3]\n",
      " [ 2  1  0]\n",
      " [ 1  3 -5]]\n"
     ]
    }
   ],
   "source": [
    "print(B)"
   ]
  },
  {
   "cell_type": "markdown",
   "metadata": {},
   "source": [
    "## Multiplying a matrix with a real number"
   ]
  },
  {
   "cell_type": "code",
   "execution_count": 4,
   "metadata": {},
   "outputs": [
    {
     "name": "stdout",
     "output_type": "stream",
     "text": [
      "[[ 0 -5 10]\n",
      " [ 5  0  5]\n",
      " [ 5  5  0]]\n"
     ]
    }
   ],
   "source": [
    "print(5*A)"
   ]
  },
  {
   "cell_type": "markdown",
   "metadata": {},
   "source": [
    "## Sum of matrices"
   ]
  },
  {
   "cell_type": "code",
   "execution_count": 5,
   "metadata": {},
   "outputs": [
    {
     "name": "stdout",
     "output_type": "stream",
     "text": [
      "[[-1 -1  5]\n",
      " [ 3  1  1]\n",
      " [ 2  4 -5]]\n"
     ]
    }
   ],
   "source": [
    "print(A + B)"
   ]
  },
  {
   "cell_type": "markdown",
   "metadata": {},
   "source": [
    "## Matrix multiplication\n",
    "\n",
    "Matrix multiplication is not commutative."
   ]
  },
  {
   "cell_type": "code",
   "execution_count": 6,
   "metadata": {},
   "outputs": [
    {
     "name": "stdout",
     "output_type": "stream",
     "text": [
      "[[  0   5 -10]\n",
      " [  0   3  -2]\n",
      " [  1   1   3]]\n"
     ]
    }
   ],
   "source": [
    "print(A.dot(B))"
   ]
  },
  {
   "cell_type": "code",
   "execution_count": 7,
   "metadata": {},
   "outputs": [
    {
     "name": "stdout",
     "output_type": "stream",
     "text": [
      "[[ 3  4 -2]\n",
      " [ 1 -2  5]\n",
      " [-2 -6  5]]\n"
     ]
    }
   ],
   "source": [
    "print(B.dot(A))"
   ]
  },
  {
   "cell_type": "markdown",
   "metadata": {},
   "source": [
    "In Python the * operator denotes the elementwise multiplication, not the matrix product."
   ]
  },
  {
   "cell_type": "code",
   "execution_count": 8,
   "metadata": {},
   "outputs": [
    {
     "name": "stdout",
     "output_type": "stream",
     "text": [
      "[[0 0 6]\n",
      " [2 0 0]\n",
      " [1 3 0]]\n"
     ]
    }
   ],
   "source": [
    "print(A * B)"
   ]
  },
  {
   "cell_type": "markdown",
   "metadata": {},
   "source": [
    "## Transpose of a matrix"
   ]
  },
  {
   "cell_type": "markdown",
   "metadata": {},
   "source": [
    "The transpose $A^T$ of a matrix $A$ is defined by\n",
    "\\begin{equation*}\n",
    "A^T(i, j) = A(j, i).\n",
    "\\end{equation*}"
   ]
  },
  {
   "cell_type": "code",
   "execution_count": 9,
   "metadata": {},
   "outputs": [
    {
     "name": "stdout",
     "output_type": "stream",
     "text": [
      "[[ 0  1  1]\n",
      " [-1  0  1]\n",
      " [ 2  1  0]]\n"
     ]
    }
   ],
   "source": [
    "print(A.T)"
   ]
  },
  {
   "cell_type": "markdown",
   "metadata": {},
   "source": [
    "# 2. The inverse matrix"
   ]
  },
  {
   "cell_type": "markdown",
   "metadata": {},
   "source": [
    "The set of equations \n",
    "\\begin{equation*}\n",
    "\\left\\{ \\begin{aligned}\n",
    "x + y - z &= -2 \\\\\n",
    "x - 2y + z &= 5 \\\\\n",
    "-2x + y + z &= 2\n",
    "\\end{aligned}\\right.\n",
    "\\end{equation*}\n",
    "is equivalent to the matrix equation\n",
    "\\begin{equation*}\n",
    "A X = B,\n",
    "\\end{equation*}\n",
    "where\n",
    "\\begin{equation*}\n",
    "A = \\pmatrix{1 & 1 & -1 \\\\ 1& -2& 1\\\\ -2& 1& 1}, \\quad B = \\pmatrix{ -2\\\\ 5\\\\ 2}\\quad\\text{and}\\quad\n",
    "X = \\pmatrix{ x\\\\ y\\\\ z}.\n",
    "\\end{equation*}\n",
    "\n",
    "The matrix equation can be solved as\n",
    "\\begin{equation*}\n",
    "\\begin{aligned}\n",
    "AX &= B \\\\\n",
    "\\Leftrightarrow\\quad A^{-1} A X &= A^{-1} B \\\\\n",
    "\\Leftrightarrow\\quad I X &= A^{-1} B \\\\\n",
    "\\Leftrightarrow\\quad X &= A^{-1} B\n",
    "\\end{aligned}\n",
    "\\end{equation*}"
   ]
  },
  {
   "cell_type": "code",
   "execution_count": 10,
   "metadata": {},
   "outputs": [
    {
     "name": "stdout",
     "output_type": "stream",
     "text": [
      "[[2.]\n",
      " [1.]\n",
      " [5.]]\n"
     ]
    }
   ],
   "source": [
    "A = np.array([[1, 1, -1], [1, -2, 1], [-2, 1, 1]])\n",
    "B = np.array([[-2], [5], [2]])\n",
    "\n",
    "X = la.inv(A).dot(B)\n",
    "\n",
    "print(X)"
   ]
  },
  {
   "cell_type": "markdown",
   "metadata": {},
   "source": [
    "The inverse matrix $A^{-1}$ is defined by\n",
    "\\begin{equation*}\n",
    "A^{-1} A = A A^{-1} = I\n",
    "\\end{equation*}\n",
    "where $I$ is the identity matrix with the property\n",
    "\\begin{equation*}\n",
    "I A = A I = A\n",
    "\\end{equation*}\n",
    "for all matrices $A$."
   ]
  },
  {
   "cell_type": "code",
   "execution_count": 11,
   "metadata": {},
   "outputs": [
    {
     "name": "stdout",
     "output_type": "stream",
     "text": [
      "[[ 1.00000000e+00  5.55111512e-17 -5.55111512e-17]\n",
      " [ 0.00000000e+00  1.00000000e+00 -1.11022302e-16]\n",
      " [ 0.00000000e+00  0.00000000e+00  1.00000000e+00]]\n"
     ]
    }
   ],
   "source": [
    "print(la.inv(A).dot(A))"
   ]
  },
  {
   "cell_type": "code",
   "execution_count": 12,
   "metadata": {},
   "outputs": [
    {
     "name": "stdout",
     "output_type": "stream",
     "text": [
      "[[1. 0. 0.]\n",
      " [0. 1. 0.]\n",
      " [0. 0. 1.]]\n"
     ]
    }
   ],
   "source": [
    "print(A.dot(la.inv(A)))"
   ]
  },
  {
   "cell_type": "code",
   "execution_count": null,
   "metadata": {},
   "outputs": [],
   "source": []
  },
  {
   "cell_type": "code",
   "execution_count": null,
   "metadata": {},
   "outputs": [],
   "source": []
  }
 ],
 "metadata": {
  "kernelspec": {
   "display_name": "Python 3",
   "language": "python",
   "name": "python3"
  },
  "language_info": {
   "codemirror_mode": {
    "name": "ipython",
    "version": 3
   },
   "file_extension": ".py",
   "mimetype": "text/x-python",
   "name": "python",
   "nbconvert_exporter": "python",
   "pygments_lexer": "ipython3",
   "version": "3.7.6"
  }
 },
 "nbformat": 4,
 "nbformat_minor": 4
}
